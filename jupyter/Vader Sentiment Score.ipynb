{
 "cells": [
  {
   "cell_type": "markdown",
   "metadata": {},
   "source": [
    "This scripts reads a Reddit comments' file and adds a column with the Vader sentiment score, saving the result in a new file. Also saving a new file with just the timestamp and sentiment score, since it's the only information that will be needed for calculating sentiment for a time period and will require much less mempory to process.\n"
   ]
  },
  {
   "cell_type": "code",
   "execution_count": 35,
   "metadata": {
    "collapsed": true
   },
   "outputs": [],
   "source": [
    "import numpy as np\n",
    "import pandas as pd\n",
    "\n",
    "from nltk.sentiment.vader import SentimentIntensityAnalyzer\n",
    "\n",
    "input_file = './comments_cleaned.csv'   #Input file name\n",
    "output_file = './comments_scored.csv'   #Output file name\n",
    "summary_file= './comments_summary.csv'  #Summary file name\n"
   ]
  },
  {
   "cell_type": "code",
   "execution_count": 36,
   "metadata": {
    "collapsed": true
   },
   "outputs": [],
   "source": [
    "reddit_comments = pd.read_csv(input_file)\n"
   ]
  },
  {
   "cell_type": "code",
   "execution_count": 40,
   "metadata": {
    "collapsed": true
   },
   "outputs": [],
   "source": [
    "sid = SentimentIntensityAnalyzer()\n",
    "\n",
    "def getScore(message):\n",
    "    return sid.polarity_scores(message)['compound']\n",
    "\n",
    "reddit_comments['sentiment_score'] = list(reddit_comments['text'].apply(getScore))\n",
    "\n"
   ]
  },
  {
   "cell_type": "code",
   "execution_count": 43,
   "metadata": {
    "collapsed": true
   },
   "outputs": [],
   "source": [
    "reddit_comments.to_csv(output_file)\n",
    "reddit_comments[['timestamp', 'sentiment_score']].to_csv(summary_file)"
   ]
  },
  {
   "cell_type": "code",
   "execution_count": null,
   "metadata": {
    "collapsed": true
   },
   "outputs": [],
   "source": []
  }
 ],
 "metadata": {
  "kernelspec": {
   "display_name": "Python 3",
   "language": "python",
   "name": "python3"
  },
  "language_info": {
   "codemirror_mode": {
    "name": "ipython",
    "version": 3
   },
   "file_extension": ".py",
   "mimetype": "text/x-python",
   "name": "python",
   "nbconvert_exporter": "python",
   "pygments_lexer": "ipython3",
   "version": "3.6.1"
  }
 },
 "nbformat": 4,
 "nbformat_minor": 2
}
