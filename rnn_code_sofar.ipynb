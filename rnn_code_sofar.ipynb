{
 "cells": [
  {
   "cell_type": "code",
   "execution_count": null,
   "metadata": {
    "collapsed": true
   },
   "outputs": [],
   "source": [
    "from __future__ import print_function\n",
    "\n",
    "from keras.preprocessing import sequence\n",
    "from keras.models import Sequential\n",
    "from keras.layers import Dense, Embedding\n",
    "from keras.layers import LSTM\n",
    "from keras.datasets import imdb\n"
   ]
  },
  {
   "cell_type": "code",
   "execution_count": null,
   "metadata": {
    "collapsed": true
   },
   "outputs": [],
   "source": [
    "max_features = 17114\n",
    "maxlen = 30  # cut texts after this number of words (among top max_features most common words)\n",
    "batch_size = 30\n",
    "\n",
    "model = Sequential()\n",
    "model.add(Embedding(max_features, 300))\n",
    "model.add(LSTM(300,  recurrent_dropout=0.2, return_sequences=True))\n",
    "model.add(LSTM(300,  recurrent_dropout=0.2, return_sequences=True))\n",
    "model.add(LSTM(300,  recurrent_dropout=0.2, ))\n",
    "\n",
    "model.add(Dense(1, activation='elu'))  #change to 1 cat"
   ]
  },
  {
   "cell_type": "code",
   "execution_count": null,
   "metadata": {
    "collapsed": true
   },
   "outputs": [],
   "source": [
    "model.compile(loss='sparse_categorical_crossentropy',\n",
    "              optimizer='adamax',\n",
    "              metrics=['accuracy'])\n",
    "\n",
    "print('Train...')\n",
    "model.fit(X_train_tfidf_descFitted_padded, ytrain,    #input is vectorized then tfidfed, densified and then padded\n",
    "          batch_size=batch_size,\n",
    "          epochs=2,\n",
    "          validation_data=(X_test_tfidf_descFitted_padded, ytest)) \n",
    "score, acc = model.evaluate(X_test_tfidf_descFitted_padded, ytest,\n",
    "                            batch_size=batch_size)\n",
    "print('Test score:', score)\n",
    "print('Test accuracy:', acc)"
   ]
  }
 ],
 "metadata": {
  "kernelspec": {
   "display_name": "Python 3.5 (wcd-ml)\n",
   "language": "python",
   "name": "wcd-ml-b2"
  },
  "language_info": {
   "codemirror_mode": {
    "name": "ipython",
    "version": 3
   },
   "file_extension": ".py",
   "mimetype": "text/x-python",
   "name": "python",
   "nbconvert_exporter": "python",
   "pygments_lexer": "ipython3",
   "version": "3.6.2"
  }
 },
 "nbformat": 4,
 "nbformat_minor": 2
}
